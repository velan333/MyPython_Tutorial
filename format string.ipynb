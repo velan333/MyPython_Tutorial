{
 "cells": [
  {
   "cell_type": "code",
   "execution_count": 1,
   "id": "1ea9408d-a933-47f5-9029-36a509ae52d8",
   "metadata": {},
   "outputs": [
    {
     "name": "stdout",
     "output_type": "stream",
     "text": [
      "1,244,515,645,645,645\n",
      "1_244_515_645_645_645\n"
     ]
    }
   ],
   "source": [
    "# format strings\n",
    "x=1244515645645645\n",
    "print(f\"{x:,}\")\n",
    "# this statement use the comma , as the thousand separator\n",
    "print(f\"{x:_}\")\n",
    "# this statement use the underscore _ as the thousand separator\n",
    "# only these two options used as a thousand separator\n"
   ]
  },
  {
   "cell_type": "code",
   "execution_count": 2,
   "id": "a524d7e9-7e4c-47de-adb0-c8f5fcc4d3ce",
   "metadata": {},
   "outputs": [
    {
     "name": "stdout",
     "output_type": "stream",
     "text": [
      "                 abc\n"
     ]
    }
   ],
   "source": [
    "str=\"abc\"\n",
    "print(f\"{str:>20}\")\n",
    "# print the result with right indent and take 20 characters"
   ]
  },
  {
   "cell_type": "code",
   "execution_count": 3,
   "id": "4b079079-4b02-4957-a67f-489bc686dbeb",
   "metadata": {},
   "outputs": [
    {
     "name": "stdout",
     "output_type": "stream",
     "text": [
      "                 abc:\n"
     ]
    }
   ],
   "source": [
    "str=\"abc\"\n",
    "print(f\"{str:>20}:\")"
   ]
  },
  {
   "cell_type": "code",
   "execution_count": 4,
   "id": "373bcae0-3d35-4561-b6bc-538e2308066d",
   "metadata": {},
   "outputs": [
    {
     "name": "stdout",
     "output_type": "stream",
     "text": [
      "abc                 :\n"
     ]
    }
   ],
   "source": [
    "str=\"abc\"\n",
    "print(f\"{str:<20}:\")\n",
    "# print the result with left indent and take 20 characters"
   ]
  },
  {
   "cell_type": "code",
   "execution_count": 5,
   "id": "48f06ccd-983f-422b-8cca-d9ffae162dbe",
   "metadata": {},
   "outputs": [
    {
     "name": "stdout",
     "output_type": "stream",
     "text": [
      "        abc         :\n"
     ]
    }
   ],
   "source": [
    "str=\"abc\"\n",
    "print(f\"{str:^20}:\")\n",
    "# print the result with center indent and take 20 characters"
   ]
  },
  {
   "cell_type": "code",
   "execution_count": 7,
   "id": "81eb1703-4a4d-40a7-9346-2eb510370745",
   "metadata": {},
   "outputs": [
    {
     "name": "stdout",
     "output_type": "stream",
     "text": [
      "~~~~~~~~~~~~~~~~~abc\n"
     ]
    }
   ],
   "source": [
    "str=\"abc\"\n",
    "print(f\"{str:~>20}\")\n",
    "# print the result with right indent and take 20 characters\n",
    "# the ~ tild used as a fill character"
   ]
  },
  {
   "cell_type": "code",
   "execution_count": 8,
   "id": "c05a2f2e-5f88-4261-8f6c-2bb60f311788",
   "metadata": {},
   "outputs": [
    {
     "name": "stdout",
     "output_type": "stream",
     "text": [
      "~~~~~~~~~~~~~~~~~abc:\n"
     ]
    }
   ],
   "source": [
    "str=\"abc\"\n",
    "print(f\"{str:~>20}:\")\n",
    "# print the result with right indent and take 20 characters\n",
    "# the ~ tild used as a fill character"
   ]
  },
  {
   "cell_type": "code",
   "execution_count": 9,
   "id": "84afbb4e-aa44-4700-9975-d2f65c94b9ba",
   "metadata": {},
   "outputs": [
    {
     "name": "stdout",
     "output_type": "stream",
     "text": [
      "abc_________________:\n"
     ]
    }
   ],
   "source": [
    "str=\"abc\"\n",
    "print(f\"{str:_<20}:\")\n",
    "# print the result with left indent and take 20 characters\n",
    "# the _ underscore used as a fill character"
   ]
  },
  {
   "cell_type": "code",
   "execution_count": 10,
   "id": "a7edcbdb-4cbb-4789-a7d6-6e6a352e6c7b",
   "metadata": {},
   "outputs": [
    {
     "name": "stdout",
     "output_type": "stream",
     "text": [
      "********abc*********:\n"
     ]
    }
   ],
   "source": [
    "str=\"abc\"\n",
    "print(f\"{str:*^20}:\")\n",
    "# print the result with center indent and take 20 characters\n",
    "# the * asteric used as a fill character"
   ]
  },
  {
   "cell_type": "code",
   "execution_count": null,
   "id": "e57c88b3-844a-4796-b44c-a9ce686a3415",
   "metadata": {},
   "outputs": [],
   "source": []
  }
 ],
 "metadata": {
  "kernelspec": {
   "display_name": "Python 3 (ipykernel)",
   "language": "python",
   "name": "python3"
  },
  "language_info": {
   "codemirror_mode": {
    "name": "ipython",
    "version": 3
   },
   "file_extension": ".py",
   "mimetype": "text/x-python",
   "name": "python",
   "nbconvert_exporter": "python",
   "pygments_lexer": "ipython3",
   "version": "3.13.0"
  }
 },
 "nbformat": 4,
 "nbformat_minor": 5
}
