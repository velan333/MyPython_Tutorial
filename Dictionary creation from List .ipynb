{
 "cells": [
  {
   "cell_type": "code",
   "execution_count": 3,
   "id": "5c5286f0-2187-4a6f-94db-5d6db4b0145d",
   "metadata": {},
   "outputs": [
    {
     "name": "stdout",
     "output_type": "stream",
     "text": [
      "Dictionary created from two lists:\n",
      "{'John': 'Blue', 'Angel': 'Green', 'Charlie': 'Red', 'Toni': 'Purple'}\n"
     ]
    }
   ],
   "source": [
    "# Creating two string lists - let's use names and their favorite colors as an example\n",
    "\n",
    "names = [\"John\", \"Angel\", \"Charlie\", \"Toni\"]\n",
    "colors = [\"Blue\", \"Green\", \"Red\", \"Purple\"]\n",
    "# The lists must be of equal length. If they're not, you might get unexpected results or errors\n",
    "# This will create a dictionary where names are keys and colors are values.\n",
    "# Converting lists to dictionary using zip()\n",
    "\n",
    "person_colors = dict(zip(names, colors))\n",
    "\n",
    "# The zip() function pairs up elements from both lists position by position\n",
    "# dict() converts these pairs into a dictionary\n",
    "\n",
    "print(\"Dictionary created from two lists:\")\n",
    "print(person_colors)"
   ]
  },
  {
   "cell_type": "code",
   "execution_count": 11,
   "id": "33dd5ff0-b8d0-4387-a0f9-7204577dd056",
   "metadata": {},
   "outputs": [
    {
     "name": "stdout",
     "output_type": "stream",
     "text": [
      "Dictionary created using FOR loop:\n",
      " {'apple': '180', 'orange': '90', 'pear': '80', 'papaya': '60', 'chikku': '60'}\n",
      "Dictionary created using dict comprehension:\n",
      " {'apple': '180', 'orange': '90', 'pear': '80', 'papaya': '60', 'chikku': '60'}\n"
     ]
    }
   ],
   "source": [
    "# creating two string list\n",
    "fruits = ['apple','orange','pear','papaya','chikku']\n",
    "prices = ['180','90','80','60','60']\n",
    "\n",
    "# The lists must be of equal length. If they're not, you might get unexpected results or errors\n",
    "# create dictionaries\n",
    "# Method 1: Using a for loop with range\n",
    "\n",
    "fruit_prices ={}\n",
    "\n",
    "for i in range(len(fruits)):\n",
    "    fruit_prices[fruits[i]] =prices[i]\n",
    "\n",
    "print(\"Dictionary created using FOR loop:\\n\",fruit_prices)\n",
    "\n",
    "# method2: using dictionary comprehension:\n",
    "\n",
    "fruit_prices2 ={fruits[i]:prices[i] for i in range(len(fruits))}\n",
    "\n",
    "print(\"Dictionary created using dict comprehension:\\n\",fruit_prices2)\n"
   ]
  },
  {
   "cell_type": "code",
   "execution_count": 15,
   "id": "46a6a68c-e10d-4d61-96ac-337720902f67",
   "metadata": {},
   "outputs": [
    {
     "name": "stdout",
     "output_type": "stream",
     "text": [
      "\n",
      " Safely created Dict from unEqual list using Zip and dict methods: \n",
      "\n",
      " {'cat': '3', 'dog': '3', 'rabbit': '2'}\n"
     ]
    }
   ],
   "source": [
    "# how to handle unequal lists safely:\n",
    "\n",
    "animals = ['cat','dog','rabbit','hamster']\n",
    "ages = ['3','3','2'] # one itme less\n",
    "\n",
    "# safe conversion using zip( ) and list slicing\n",
    "\n",
    "def create_dict(k,v):\n",
    "    # get the lenght of the shorter list\n",
    "    min_length = min(len(k),len(v))\n",
    "    \n",
    "    di= zip(k[:min_length],v[:min_length])\n",
    "    #list slicing, K and v list will take values from index [0] to index[min_length]\n",
    "    # zip( ) method creates  dictionaries from the given list\n",
    "   \n",
    "    # dict() method conver the zipobject as a dict object\n",
    "    return dict(di)\n",
    "\n",
    "d1= create_dict(animals,ages)\n",
    "print(\"\\n Safely created Dict from unEqual list using Zip and dict methods: \\n\\n\",d1)\n",
    "\n",
    "    "
   ]
  },
  {
   "cell_type": "code",
   "execution_count": 20,
   "id": "e4ab7739-979d-493e-ba89-1ee9e0d852ed",
   "metadata": {},
   "outputs": [
    {
     "name": "stdout",
     "output_type": "stream",
     "text": [
      "\n",
      "Country code lookup example:\n",
      "The country code for Canada is: CA\n"
     ]
    }
   ],
   "source": [
    "# creating a simple looku[ table\n",
    "\n",
    "countries = [\"united States\",'Canada','Mexico','United Kingdom' ]\n",
    "codes = ['US','CA','MX','UK']\n",
    "conutri_codes = dict(zip(countries,codes))\n",
    "\n",
    "# Now you can look up country codes easily\n",
    "\n",
    "print(\"\\nCountry code lookup example:\")\n",
    "\n",
    "print(f\"The country code for Canada is: {conutri_codes['Canada']}\")"
   ]
  },
  {
   "cell_type": "code",
   "execution_count": 23,
   "id": "606745b5-3632-4caa-9078-dff57c2ab8e3",
   "metadata": {},
   "outputs": [
    {
     "name": "stdout",
     "output_type": "stream",
     "text": [
      "\n",
      "Country code lookup example:\n"
     ]
    },
    {
     "name": "stdin",
     "output_type": "stream",
     "text": [
      "Select the country Name to view the Code united States/Canada/Mexico/United Kingdom\n",
      " Canada\n"
     ]
    },
    {
     "name": "stdout",
     "output_type": "stream",
     "text": [
      "The country code for Canada is: CA\n"
     ]
    }
   ],
   "source": [
    "# creating a simple looku[ table\n",
    "\n",
    "countries = [\"united States\",'Canada','Mexico','United Kingdom' ]\n",
    "codes = ['US','CA','MX','UK']\n",
    "conutri_codes = dict(zip(countries,codes))\n",
    "\n",
    "# Now you can look up country codes easily\n",
    "\n",
    "print(\"\\nCountry code lookup example:\")\n",
    "cc=input(\"Select the country Name to view the Code united States/Canada/Mexico/United Kingdom\\n\")\n",
    "print(f\"The country code for {cc} is: {conutri_codes[cc]}\")"
   ]
  },
  {
   "cell_type": "code",
   "execution_count": null,
   "id": "a95cf105-f814-4fda-84a1-b5131743d183",
   "metadata": {},
   "outputs": [],
   "source": [
    "\n",
    "# we can use longzip() to create dict from unequal list, \n",
    "# this method fill with None values for the unassigned list items"
   ]
  }
 ],
 "metadata": {
  "kernelspec": {
   "display_name": "Python 3 (ipykernel)",
   "language": "python",
   "name": "python3"
  },
  "language_info": {
   "codemirror_mode": {
    "name": "ipython",
    "version": 3
   },
   "file_extension": ".py",
   "mimetype": "text/x-python",
   "name": "python",
   "nbconvert_exporter": "python",
   "pygments_lexer": "ipython3",
   "version": "3.13.0"
  }
 },
 "nbformat": 4,
 "nbformat_minor": 5
}
