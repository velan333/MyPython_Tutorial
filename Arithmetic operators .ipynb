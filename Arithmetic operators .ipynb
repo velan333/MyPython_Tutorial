{
 "cells": [
  {
   "cell_type": "code",
   "execution_count": 6,
   "id": "d7dd7cd9-22fc-4d49-ac05-d13d511ae2ef",
   "metadata": {},
   "outputs": [
    {
     "data": {
      "text/plain": [
       "8"
      ]
     },
     "execution_count": 6,
     "metadata": {},
     "output_type": "execute_result"
    }
   ],
   "source": [
    "3+5\n"
   ]
  },
  {
   "cell_type": "code",
   "execution_count": 11,
   "id": "28c14793-32f0-4975-9f8c-747de17b4c2b",
   "metadata": {},
   "outputs": [
    {
     "name": "stdin",
     "output_type": "stream",
     "text": [
      "enter the value for A 85\n",
      "enter the value for B 2\n"
     ]
    },
    {
     "name": "stdout",
     "output_type": "stream",
     "text": [
      "Sum of a+b= 87\n",
      "subtraction of a-b= 83\n",
      "Multiplication of a*b= 87\n",
      "Division of a/b= 42.5\n",
      "Remeinder of a%b= 1\n",
      "Quotient of a//b= 42\n",
      "Power of a**b= 7225\n"
     ]
    }
   ],
   "source": [
    "a=int(input(\"enter the value for A\")) #get the input value for vairable 'A' from the end user and store in the variable A  converting the value as int\n",
    "b=int(input(\"enter the value for B\")) # get the input value for vairable 'B' from the end user and store in the variable A  converting the value as int\n",
    "print(\"Sum of a+b=\",a+b) # print the sum of a and b \n",
    "print(\"subtraction of a-b=\",a-b)\n",
    "print(\"Multiplication of a*b=\",a+b)\n",
    "print(\"Division of a/b=\",a/b)\n",
    "print(\"Remeinder of a%b=\",a%b)\n",
    "print(\"Quotient of a//b=\",a//b)\n",
    "print(\"Power of a**b=\",a**b)\n"
   ]
  },
  {
   "cell_type": "code",
   "execution_count": null,
   "id": "14225145-6a1a-45c6-8fc2-301325230b06",
   "metadata": {},
   "outputs": [],
   "source": []
  }
 ],
 "metadata": {
  "kernelspec": {
   "display_name": "Python 3 (ipykernel)",
   "language": "python",
   "name": "python3"
  },
  "language_info": {
   "codemirror_mode": {
    "name": "ipython",
    "version": 3
   },
   "file_extension": ".py",
   "mimetype": "text/x-python",
   "name": "python",
   "nbconvert_exporter": "python",
   "pygments_lexer": "ipython3",
   "version": "3.13.0"
  }
 },
 "nbformat": 4,
 "nbformat_minor": 5
}
