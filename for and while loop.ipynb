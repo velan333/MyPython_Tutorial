{
 "cells": [
  {
   "cell_type": "code",
   "execution_count": 8,
   "id": "a372e4ef-ffc8-4145-961d-bc6027dfc59b",
   "metadata": {},
   "outputs": [
    {
     "name": "stdout",
     "output_type": "stream",
     "text": [
      "1 Hello's\n",
      "3 Hello's\n",
      "5 Hello's\n",
      "7 Hello's\n",
      "9 Hello's\n"
     ]
    }
   ],
   "source": [
    "for i in range(1,10,2):\n",
    "    print(i,\"Hello's\")\n"
   ]
  },
  {
   "cell_type": "code",
   "execution_count": 9,
   "id": "c584b52c-ae6d-401a-83ca-7fcb863f3894",
   "metadata": {},
   "outputs": [
    {
     "name": "stdout",
     "output_type": "stream",
     "text": [
      "1 x 2= 2\n",
      "2 x 2= 4\n",
      "3 x 2= 6\n",
      "4 x 2= 8\n",
      "5 x 2= 10\n",
      "6 x 2= 12\n",
      "7 x 2= 14\n",
      "8 x 2= 16\n",
      "9 x 2= 18\n",
      "10 x 2= 20\n",
      "11 x 2= 22\n",
      "12 x 2= 24\n",
      "13 x 2= 26\n",
      "14 x 2= 28\n",
      "15 x 2= 30\n",
      "16 x 2= 32\n",
      "17 x 2= 34\n",
      "18 x 2= 36\n",
      "19 x 2= 38\n",
      "20 x 2= 40\n"
     ]
    }
   ],
   "source": [
    "for i in range(1,21):\n",
    "    print (i,\"x\",\"2=\",i*2)"
   ]
  },
  {
   "cell_type": "code",
   "execution_count": 16,
   "id": "4c2bc458-f9b5-4485-bfc9-f8f8cc5affdf",
   "metadata": {},
   "outputs": [
    {
     "name": "stdout",
     "output_type": "stream",
     "text": [
      "1 x 2 = 2\n",
      "2 x 2 = 4\n",
      "3 x 2 = 6\n",
      "4 x 2 = 8\n",
      "5 x 2 = 10\n",
      "6 x 2 = 12\n",
      "7 x 2 = 14\n",
      "8 x 2 = 16\n",
      "9 x 2 = 18\n",
      "10 x 2 = 20\n",
      "11 x 2 = 22\n",
      "12 x 2 = 24\n",
      "13 x 2 = 26\n",
      "14 x 2 = 28\n",
      "15 x 2 = 30\n",
      "16 x 2 = 32\n",
      "17 x 2 = 34\n",
      "18 x 2 = 36\n",
      "19 x 2 = 38\n",
      "20 x 2 = 40\n"
     ]
    }
   ],
   "source": [
    "for i in range(1,21):\n",
    "    print(f\"{i} x {2} = {i*2}\")"
   ]
  },
  {
   "cell_type": "code",
   "execution_count": null,
   "id": "2353d536-0ede-4bd0-be4c-961d649e8f92",
   "metadata": {},
   "outputs": [],
   "source": [
    "''' this is a sample program to find the factorial of a user given number\n",
    "get the value from the use and store it in variable n\n",
    "define a temp variable called f to store the result of factorial\n",
    "since we are multiply the i with f we need to assign the default value of f=1\n",
    "use for loop to calculate the value\n",
    "start value of i is =1\n",
    "range function exclude the last value so we use n+1 in the for loop to include the last value {user given number} in calculation '''\n",
    "\n",
    "n=int(input(\"enter a number\"))\n",
    "f=1\n",
    "a=0\n",
    "if n>0:\n",
    "    for i in range(1,n+1):\n",
    "        f=f*i\n",
    "        a=a+1\n",
    "    print(\"factorial of \",n,\"is=\",f)\n",
    "    print(\"Factorial of \",n,\"obtained after multiplied\",a,\" numbers\")\n",
    "else:\n",
    "    print(\"provide a positive number to identif the Factorial\")\n"
   ]
  },
  {
   "cell_type": "code",
   "execution_count": null,
   "id": "d5c90ab6-0401-483b-a0b3-90842cfa5252",
   "metadata": {},
   "outputs": [],
   "source": [
    "# python has a special case it uses else option in for  and while loops also\n",
    "#prime numbers are numbers which are divisible by 1 and the same number, if we divide other those two numbers there will be a remeinder exist\n",
    "# so to get the remeinder we use the % operator\n",
    "\n",
    "n=int(input(\"enter a number\"))\n",
    "for i in range(2,n):\n",
    "    if n%i==0:\n",
    "        print(\"the given number\",n,\"is NOT a prime number\")\n",
    "        break\n",
    "else:\n",
    "    print(\"the given number\",n,\"is a prime number\")\n"
   ]
  },
  {
   "cell_type": "code",
   "execution_count": null,
   "id": "c59587d0-94c6-44a1-9fef-2263fec433b4",
   "metadata": {},
   "outputs": [],
   "source": []
  },
  {
   "cell_type": "code",
   "execution_count": 1,
   "id": "351a14ca-ea3d-4e97-841f-c9daf1b9eb14",
   "metadata": {},
   "outputs": [
    {
     "name": "stdin",
     "output_type": "stream",
     "text": [
      "enter a number 452\n"
     ]
    },
    {
     "name": "stdout",
     "output_type": "stream",
     "text": [
      "reverse of the Given number is 254\n"
     ]
    }
   ],
   "source": [
    "# loops are two kinds \n",
    "# finite loops------------where we know the number of iterations\n",
    "#infinite loop------------where we do not know the number of iterations during the program execution\n",
    "# get a number and store it in variable n\n",
    "#create a temp variable called rev to store values\n",
    "# to get the reverse of an number we need to get remeinder of that number which is last digit, we can get that by dividing with 10\n",
    "# get the last digit and accumulate in the temp variable rev\n",
    "# after getting the last digit we need to reduce the number by one digit for that we need to get the quotient of that number , we use // to get quotient\n",
    "\n",
    "n=int(input(\"enter a number\"))\n",
    "rev=0\n",
    "while n>0:\n",
    "    rev=(rev*10)+(n%10)\n",
    "    n=n//10\n",
    "print(\"reverse of the Given number is\",rev)\n",
    "\n",
    "    "
   ]
  },
  {
   "cell_type": "code",
   "execution_count": null,
   "id": "9a339df5-e028-43e3-9a20-188442888056",
   "metadata": {},
   "outputs": [],
   "source": []
  }
 ],
 "metadata": {
  "kernelspec": {
   "display_name": "Python 3 (ipykernel)",
   "language": "python",
   "name": "python3"
  },
  "language_info": {
   "codemirror_mode": {
    "name": "ipython",
    "version": 3
   },
   "file_extension": ".py",
   "mimetype": "text/x-python",
   "name": "python",
   "nbconvert_exporter": "python",
   "pygments_lexer": "ipython3",
   "version": "3.13.0"
  }
 },
 "nbformat": 4,
 "nbformat_minor": 5
}
