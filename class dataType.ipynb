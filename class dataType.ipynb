{
 "cells": [
  {
   "cell_type": "code",
   "execution_count": null,
   "id": "91283387-7109-41ee-af2a-79a829070f6f",
   "metadata": {},
   "outputs": [],
   "source": [
    "\n",
    "In Python, a constructor is a special method used to initialize objects when a class is instantiated. \n",
    "The constructor is defined using the __init__ method.\n",
    "\n",
    "\n",
    "The __init__ method is automatically called when an object of the class is created.\n",
    "It is typically used to assign values to the attributes of the class or perform any other setup procedures.\n",
    "Syntax\n",
    "python\n",
    "Copy code\n",
    "class ClassName:\n",
    "    def __init__(self, parameters):\n",
    "        # Initialization code"
   ]
  },
  {
   "cell_type": "code",
   "execution_count": 1,
   "id": "020b441f-3c3a-47b8-885d-a1a31923c96c",
   "metadata": {},
   "outputs": [
    {
     "name": "stdout",
     "output_type": "stream",
     "text": [
      "Alice\n",
      "30\n"
     ]
    }
   ],
   "source": [
    "class Person:\n",
    "    def __init__(self, name, age):\n",
    "        self.name = name  # Assign the name attribute\n",
    "        self.age = age    # Assign the age attribute\n",
    "\n",
    "# Creating an object of the Person class\n",
    "person1 = Person(\"Alice\", 30)\n",
    "\n",
    "# Accessing attributes\n",
    "print(person1.name)  # Output: Alice\n",
    "print(person1.age)   # Output: 30"
   ]
  },
  {
   "cell_type": "code",
   "execution_count": 15,
   "id": "98f4ab85-434f-4813-ac01-0a04f080120d",
   "metadata": {},
   "outputs": [
    {
     "name": "stdout",
     "output_type": "stream",
     "text": [
      "<__main__.human object at 0x0000025D0C13F230>\n"
     ]
    },
    {
     "name": "stdin",
     "output_type": "stream",
     "text": [
      "enter the name: mss\n",
      "enter the age: 6\n",
      "enter the Sex: m\n"
     ]
    },
    {
     "name": "stdout",
     "output_type": "stream",
     "text": [
      "Name : mss\n",
      "Age : 6\n",
      "Sex : m\n"
     ]
    }
   ],
   "source": [
    "class human:\n",
    "    def __init__(self,name=\"\",age=\"\",sex=\"\"):\n",
    "        self.name=name\n",
    "        self.age=age\n",
    "        self.sex=sex\n",
    "    def getinput(self):\n",
    "        self.name=input(\"enter the name:\")\n",
    "        self.age=int(input(\"enter the age:\"))\n",
    "        self.sex=input(\"enter the Sex:\")\n",
    "    def putinput(self):\n",
    "        print(\"Name :\",self.name)\n",
    "        print(\"Age :\",self.age)\n",
    "        print(\"Sex :\",self.sex)\n",
    "h1=human()\n",
    "print(h1)                   #this line print the address of the variable h1\n",
    "                             # to print the values of H1 need to specify the parameters as in the above\n",
    "h1.getinput()\n",
    "h1.putinput()\n"
   ]
  },
  {
   "cell_type": "code",
   "execution_count": 19,
   "id": "df140dd7-25ba-46d7-b440-c96a3781fea2",
   "metadata": {},
   "outputs": [],
   "source": [
    "class Person:                     #Default Parameters: You can provide default values for the parameters to make them optional.\n",
    "    def __init__(self, name=\"Unknown\", age=0):\n",
    "        self.name = name\n",
    "        self.age = age"
   ]
  },
  {
   "cell_type": "code",
   "execution_count": null,
   "id": "13c4112a-143a-444b-8ef8-a5a4bad6ba4c",
   "metadata": {},
   "outputs": [],
   "source": [
    "class Person:                    #Custom Logic: You can add logic inside the constructor for validations or transformations.\n",
    "    def __init__(self, name, age):\n",
    "        self.name = name\n",
    "        if age < 0:\n",
    "            self.age = 0  # Default to 0 if age is invalid\n",
    "        else:\n",
    "            self.age = age"
   ]
  },
  {
   "cell_type": "code",
   "execution_count": 5,
   "id": "c5efeffd-ce6e-4b2e-9f54-e56cfca44321",
   "metadata": {},
   "outputs": [
    {
     "data": {
      "text/plain": [
       "['__class__',\n",
       " '__delattr__',\n",
       " '__dict__',\n",
       " '__dir__',\n",
       " '__doc__',\n",
       " '__eq__',\n",
       " '__firstlineno__',\n",
       " '__format__',\n",
       " '__ge__',\n",
       " '__getattribute__',\n",
       " '__getstate__',\n",
       " '__gt__',\n",
       " '__hash__',\n",
       " '__init__',\n",
       " '__init_subclass__',\n",
       " '__le__',\n",
       " '__lt__',\n",
       " '__module__',\n",
       " '__ne__',\n",
       " '__new__',\n",
       " '__reduce__',\n",
       " '__reduce_ex__',\n",
       " '__repr__',\n",
       " '__setattr__',\n",
       " '__sizeof__',\n",
       " '__static_attributes__',\n",
       " '__str__',\n",
       " '__subclasshook__',\n",
       " '__weakref__',\n",
       " 'age',\n",
       " 'name',\n",
       " 'sex']"
      ]
     },
     "execution_count": 5,
     "metadata": {},
     "output_type": "execute_result"
    }
   ],
   "source": [
    "dir(h1)\n"
   ]
  },
  {
   "cell_type": "code",
   "execution_count": 20,
   "id": "0ed9328e-018d-460d-bca3-972e6957fc93",
   "metadata": {},
   "outputs": [
    {
     "ename": "SyntaxError",
     "evalue": "invalid syntax (2425591275.py, line 1)",
     "output_type": "error",
     "traceback": [
      "\u001b[1;36m  Cell \u001b[1;32mIn[20], line 1\u001b[1;36m\u001b[0m\n\u001b[1;33m    Special Methods: The __init__ method is just one of many special methods in Python, often referred to as magic methods or dunder methods.\u001b[0m\n\u001b[1;37m            ^\u001b[0m\n\u001b[1;31mSyntaxError\u001b[0m\u001b[1;31m:\u001b[0m invalid syntax\n"
     ]
    }
   ],
   "source": [
    "# Special Methods: The __init__ method is just one of many special methods in Python, often referred to as magic methods or dunder methods. \n",
    "# For example, __str__ for string representation and __eq__ for equality comparison."
   ]
  },
  {
   "cell_type": "code",
   "execution_count": null,
   "id": "fd43e05e-3542-40e0-8008-0c9740050714",
   "metadata": {},
   "outputs": [],
   "source": []
  }
 ],
 "metadata": {
  "kernelspec": {
   "display_name": "Python 3 (ipykernel)",
   "language": "python",
   "name": "python3"
  },
  "language_info": {
   "codemirror_mode": {
    "name": "ipython",
    "version": 3
   },
   "file_extension": ".py",
   "mimetype": "text/x-python",
   "name": "python",
   "nbconvert_exporter": "python",
   "pygments_lexer": "ipython3",
   "version": "3.13.0"
  }
 },
 "nbformat": 4,
 "nbformat_minor": 5
}
