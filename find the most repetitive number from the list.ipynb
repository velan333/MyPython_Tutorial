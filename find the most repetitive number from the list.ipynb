{
 "cells": [
  {
   "cell_type": "code",
   "execution_count": null,
   "id": "3892800f-aa1c-47fc-8092-6bc9478f5160",
   "metadata": {},
   "outputs": [],
   "source": [
    "# Method 1: using dictionaries\n",
    "# l1 = [1,2,3,1,2,5,7,1,2,3,4,7,8,2]\n",
    "# identify the most repetitive elements using dictionaries\n",
    "#1s - 3\n",
    "#2s - 4\n",
    "#3s - 2\n",
    "#4s - 1\n",
    "#5s - 5\n",
    "#7s - 1\n",
    "#8s - 1"
   ]
  },
  {
   "cell_type": "code",
   "execution_count": 8,
   "id": "1f645e5c-6f24-437b-8fc9-e773638f44a3",
   "metadata": {},
   "outputs": [
    {
     "data": {
      "text/plain": [
       "{1: 3, 2: 3, 3: 2, 5: 1, 7: 2, 4: 1, 8: 1}"
      ]
     },
     "execution_count": 8,
     "metadata": {},
     "output_type": "execute_result"
    }
   ],
   "source": [
    "l1 = [1,2,3,1,2,5,7,1,2,3,4,7,8]\n",
    "num_counter= {}\n",
    "#num_counter ={1:3,2:4,3:2,4:1} :after this loop the output will like this\n",
    "# this set of code creates a dictionaries from the list l1.\n",
    "for i in l1:\n",
    "    if i in num_counter:\n",
    "        num_counter[i]+=1\n",
    "    else:\n",
    "        num_counter[i]=1\n",
    "num_counter"
   ]
  },
  {
   "cell_type": "code",
   "execution_count": 9,
   "id": "ab9136b1-6bff-4c4b-8828-b853508018ce",
   "metadata": {},
   "outputs": [],
   "source": [
    "temp=0\n",
    "final_result =None\n",
    "\n",
    "for k,v in num_counter.items():\n",
    "    if v > temp:\n",
    "        temp = v\n",
    "        final_result = k\n"
   ]
  },
  {
   "cell_type": "code",
   "execution_count": 10,
   "id": "56fd424d-48dc-42e5-8cc5-e5e705970f2a",
   "metadata": {},
   "outputs": [
    {
     "name": "stdout",
     "output_type": "stream",
     "text": [
      "most occurance : 1\n"
     ]
    }
   ],
   "source": [
    "print(\"most occurance :\",final_result)"
   ]
  },
  {
   "cell_type": "code",
   "execution_count": 6,
   "id": "ec1a687c-1c20-4245-aad2-a3b5b4212f44",
   "metadata": {},
   "outputs": [
    {
     "name": "stdout",
     "output_type": "stream",
     "text": [
      "k: 1,V: 3,temp: 0\n",
      "k: 2,V: 4,temp: 1\n",
      "k: 3,V: 2,temp: 2\n",
      "k: 5,V: 1,temp: 3\n",
      "k: 7,V: 2,temp: 5\n",
      "k: 4,V: 1,temp: 7\n",
      "k: 8,V: 1,temp: 7\n",
      "most occurance : 8\n"
     ]
    }
   ],
   "source": [
    "temp = 0\n",
    "final_result = None\n",
    "for k,v in num_counter.items():\n",
    "    print(f\"k: {k},V: {v},temp: {temp}\")\n",
    "    if k > temp:\n",
    "        temp = k\n",
    "        final_result = k\n",
    "print(\"most occurance :\",final_result)"
   ]
  },
  {
   "cell_type": "code",
   "execution_count": 16,
   "id": "ee300cf9-5914-44a5-9c0d-25f3197c6fa4",
   "metadata": {},
   "outputs": [
    {
     "name": "stdout",
     "output_type": "stream",
     "text": [
      "Number_ counter Counter({2: 4, 1: 3, 3: 2, 7: 2, 5: 1, 4: 1, 8: 1})\n",
      "Maximum frequency : 4\n",
      "Thr most frequent Number appear 4 times\n",
      "Numbers are : [2]\n"
     ]
    }
   ],
   "source": [
    "# Method2 using counter method from Collections Module\n",
    "from collections import Counter #for Counter use C upper case\n",
    "l1 = [1, 2, 3, 1, 2, 5, 7, 1, 2, 3, 4, 7, 8, 2]\n",
    "\n",
    "#create a dummy variable to store the counting of occurances\n",
    "number_counter = Counter(l1)\n",
    "\n",
    "print(\"Number_ counter\",number_counter)\n",
    "\n",
    "# create a dummy variale to store the max count value\n",
    "max_count = max(number_counter.values())\n",
    "print(\"Maximum frequency :\",max_count)\n",
    "\n",
    "# get all numbers that has max values\n",
    "\n",
    "most_count_value = [num for num, count in number_counter.items() if count == max_count]\n",
    "print(f\"Thr most frequent Number appear {max_count} times\")\n",
    "print(f\"Numbers are : {most_count_value}\")\n",
    "\n"
   ]
  },
  {
   "cell_type": "code",
   "execution_count": 17,
   "id": "1659aae3-22e1-4b53-ba55-acaa8d450bb4",
   "metadata": {},
   "outputs": [
    {
     "name": "stdout",
     "output_type": "stream",
     "text": [
      "Number_ counter Counter({2: 4, 3: 4, 1: 3, 7: 2, 5: 1, 4: 1, 8: 1})\n",
      "Maximum frequency : 4\n",
      "Thr most frequent Number appear 4 times\n",
      "Numbers are : [2, 3]\n"
     ]
    }
   ],
   "source": [
    "# Method2 using counter method from Collections Module\n",
    "from collections import Counter #for Counter use C upper case\n",
    "l1 = [1, 2, 3, 1, 2, 5, 7, 1, 2, 3, 4, 7, 8, 2,3,3]\n",
    "\n",
    "#create a dummy variable to store the counting of occurances\n",
    "number_counter = Counter(l1)\n",
    "\n",
    "print(\"Number_ counter\",number_counter)\n",
    "\n",
    "# create a dummy variale to store the max count value\n",
    "max_count = max(number_counter.values())\n",
    "print(\"Maximum frequency :\",max_count)\n",
    "\n",
    "# get all numbers that has max values\n",
    "\n",
    "most_count_value = [num for num, count in number_counter.items() if count == max_count]\n",
    "print(f\"Thr most frequent Number appear {max_count} times\")\n",
    "print(f\"Numbers are : {most_count_value}\")\n"
   ]
  },
  {
   "cell_type": "code",
   "execution_count": 18,
   "id": "a0198604-d1f3-4991-a66c-6a751064f1f1",
   "metadata": {},
   "outputs": [
    {
     "name": "stdout",
     "output_type": "stream",
     "text": [
      "Number_ counter Counter({1: 4, 2: 4, 3: 4, 7: 2, 5: 1, 4: 1, 8: 1})\n",
      "Maximum frequency : 4\n",
      "Thr most frequent Number appear 4 times\n",
      "Numbers are : [1, 2, 3]\n"
     ]
    }
   ],
   "source": [
    "# Method2 using counter method from Collections Module\n",
    "\n",
    "from collections import Counter #for Counter use C upper case\n",
    "\n",
    "l1 = [1, 2, 3, 1, 2, 5, 7, 1, 2, 3, 4, 7, 8, 2,3,1,3]\n",
    "\n",
    "#create a dummy variable to store the counting of occurances\n",
    "number_counter = Counter(l1)\n",
    "\n",
    "print(\"Number_ counter\",number_counter)\n",
    "\n",
    "# create a dummy variale to store the max count value\n",
    "max_count = max(number_counter.values())\n",
    "print(\"Maximum frequency :\",max_count)\n",
    "\n",
    "# get all numbers that has max values\n",
    "\n",
    "most_count_value = [num for num, count in number_counter.items() if count == max_count]\n",
    "print(f\"The most frequent Number(s) appear(s) {max_count} times\")\n",
    "print(f\"Numbers are : {most_count_value}\")\n"
   ]
  },
  {
   "cell_type": "code",
   "execution_count": 23,
   "id": "e9fd896c-bd3b-4455-9f24-6c3ff4ab6905",
   "metadata": {},
   "outputs": [
    {
     "name": "stdout",
     "output_type": "stream",
     "text": [
      "Created Dictionary : {1: 4, 2: 4, 3: 4, 5: 1, 7: 2, 4: 1, 8: 1}\n",
      "\n",
      " Value of Maximum occurances:  4\n",
      "\n",
      "The most frequent Number appear 4 times\n",
      "\n",
      "Numbers are : [1, 2, 3]\n"
     ]
    }
   ],
   "source": [
    "# Method3: without using Counter method\n",
    "\n",
    "#sample list for teting purpose\n",
    "l1 = [1, 2, 3, 1, 2, 5, 7, 1, 2, 3, 4, 7, 8, 2,3,1,3]\n",
    "\n",
    "# Create a dictionary to store counts\n",
    "frequency ={}\n",
    "\n",
    "# create a dictionary from the list objects\n",
    "\n",
    "for num in l1:\n",
    "    frequency[num] = frequency.get(num,0)+1\n",
    "print(\"Created Dictionary :\",frequency)\n",
    "\n",
    "# find the max count vallues\n",
    "max_count = max(frequency.values())\n",
    "print(\"\\n Value of Maximum occurances: \",max_count)\n",
    "\n",
    "# if multiple numbers has max frequency those need to be output through the list \n",
    "\n",
    "most_frequent=[num for num, count in frequency.items() if count == max_count]\n",
    "\n",
    "print(f\"\\nThe most frequent Number appear {max_count} times\")\n",
    "print(f\"\\nNumbers are : {most_frequent}\")\n",
    "\n"
   ]
  },
  {
   "cell_type": "code",
   "execution_count": null,
   "id": "d11ba688-d07d-4a5d-9b8e-c8ce1ac1ed74",
   "metadata": {},
   "outputs": [],
   "source": []
  }
 ],
 "metadata": {
  "kernelspec": {
   "display_name": "Python 3 (ipykernel)",
   "language": "python",
   "name": "python3"
  },
  "language_info": {
   "codemirror_mode": {
    "name": "ipython",
    "version": 3
   },
   "file_extension": ".py",
   "mimetype": "text/x-python",
   "name": "python",
   "nbconvert_exporter": "python",
   "pygments_lexer": "ipython3",
   "version": "3.13.0"
  }
 },
 "nbformat": 4,
 "nbformat_minor": 5
}
