{
 "cells": [
  {
   "cell_type": "code",
   "execution_count": 7,
   "id": "88c939e8-d388-4e06-a145-60083b4aade8",
   "metadata": {},
   "outputs": [
    {
     "name": "stdin",
     "output_type": "stream",
     "text": [
      "Enter an Operator(+ - * / ):  *\n",
      "enter the 1st number:  2\n",
      "Enter the 2nd number:  45\n"
     ]
    },
    {
     "name": "stdout",
     "output_type": "stream",
     "text": [
      "The Multiplication of the Given Numbers is:  90.0\n"
     ]
    }
   ],
   "source": [
    "# python calculator\n",
    "\n",
    "operator = input(\"Enter an Operator(+ - * / ): \")\n",
    "\n",
    "no1 = float(input(\"enter the 1st number: \"))\n",
    "no2 = float(input(\"Enter the 2nd number: \"))\n",
    "\n",
    "if operator == '+':\n",
    "    print(\"The addition of the Given Numbers is: \",no1+no2)\n",
    "\n",
    "elif operator == '-':\n",
    "     print(\"The Subtraction of the Given Numbers is: \",no1-no2)\n",
    "    \n",
    "elif operator == '*':\n",
    "     print(\"The Multiplication of the Given Numbers is: \",no1*no2)\n",
    "\n",
    "elif operator == '/':\n",
    "     print(\"The Division of the Given Numbers is: \",no1/no2)\n",
    "\n",
    "else:\n",
    "    print(f\"The supplied operator {operator} is NOT valid\")\n",
    "    "
   ]
  },
  {
   "cell_type": "code",
   "execution_count": 8,
   "id": "6f3825ad-6b37-4361-80ef-39810a09f11b",
   "metadata": {},
   "outputs": [
    {
     "name": "stdin",
     "output_type": "stream",
     "text": [
      "Enter an Operator(+ - * / ):  /\n",
      "enter the 1st number:  2\n",
      "Enter the 2nd number:  8\n"
     ]
    },
    {
     "name": "stdout",
     "output_type": "stream",
     "text": [
      "The Division of the Given Numbers is:  0.25\n"
     ]
    }
   ],
   "source": [
    "# python calculator\n",
    "\n",
    "operator = input(\"Enter an Operator(+ - * / ): \")\n",
    "\n",
    "no1 = float(input(\"enter the 1st number: \"))\n",
    "no2 = float(input(\"Enter the 2nd number: \"))\n",
    "\n",
    "if operator == '+':\n",
    "    print(\"The addition of the Given Numbers is: \",round(no1+no2,2))\n",
    "\n",
    "elif operator == '-':\n",
    "     print(\"The Subtraction of the Given Numbers is: \",round(no1 - no2,2))\n",
    "    \n",
    "elif operator == '*':\n",
    "     print(\"The Multiplication of the Given Numbers is: \",round(no1 * no2,2))\n",
    "\n",
    "elif operator == '/':\n",
    "     print(\"The Division of the Given Numbers is: \",round(no1 / no2,2))\n",
    "# the Round() function used to trim the decimal values\n",
    "else:\n",
    "    print(f\"The supplied operator {operator} is NOT valid\")\n",
    "    "
   ]
  },
  {
   "cell_type": "code",
   "execution_count": 11,
   "id": "c50944b7-442a-402a-8571-f9303e4d3589",
   "metadata": {},
   "outputs": [
    {
     "name": "stdin",
     "output_type": "stream",
     "text": [
      "enter the 1st number:  5\n",
      "Enter the 2nd number:  11\n",
      "Enter an Operator(+ - * / ):  *\n"
     ]
    },
    {
     "name": "stdout",
     "output_type": "stream",
     "text": [
      "The Multiplication of the Given Numbers is:  55.0\n"
     ]
    },
    {
     "name": "stdin",
     "output_type": "stream",
     "text": [
      "Enter an Operator(+ - * / ):  9\n"
     ]
    },
    {
     "name": "stdout",
     "output_type": "stream",
     "text": [
      "The supplied operator 9 is NOT valid\n"
     ]
    },
    {
     "name": "stdin",
     "output_type": "stream",
     "text": [
      "Enter an Operator(+ - * / ):  5\n"
     ]
    },
    {
     "name": "stdout",
     "output_type": "stream",
     "text": [
      "The supplied operator 5 is NOT valid\n"
     ]
    },
    {
     "name": "stdin",
     "output_type": "stream",
     "text": [
      "Enter an Operator(+ - * / ):  45\n"
     ]
    },
    {
     "name": "stdout",
     "output_type": "stream",
     "text": [
      "The supplied operator 45 is NOT valid\n"
     ]
    },
    {
     "name": "stdin",
     "output_type": "stream",
     "text": [
      "Enter an Operator(+ - * / ):  8\n"
     ]
    },
    {
     "name": "stdout",
     "output_type": "stream",
     "text": [
      "The supplied operator 8 is NOT valid\n"
     ]
    },
    {
     "name": "stdin",
     "output_type": "stream",
     "text": [
      "Enter an Operator(+ - * / ):  /\n"
     ]
    },
    {
     "name": "stdout",
     "output_type": "stream",
     "text": [
      "The Division of the Given Numbers is:  0.45\n"
     ]
    },
    {
     "ename": "KeyboardInterrupt",
     "evalue": "Interrupted by user",
     "output_type": "error",
     "traceback": [
      "\u001b[1;31m---------------------------------------------------------------------------\u001b[0m",
      "\u001b[1;31mKeyboardInterrupt\u001b[0m                         Traceback (most recent call last)",
      "Cell \u001b[1;32mIn[11], line 7\u001b[0m\n\u001b[0;32m      4\u001b[0m no2 \u001b[38;5;241m=\u001b[39m \u001b[38;5;28mfloat\u001b[39m(\u001b[38;5;28minput\u001b[39m(\u001b[38;5;124m\"\u001b[39m\u001b[38;5;124mEnter the 2nd number: \u001b[39m\u001b[38;5;124m\"\u001b[39m))\n\u001b[0;32m      6\u001b[0m \u001b[38;5;28;01mwhile\u001b[39;00m \u001b[38;5;28;01mTrue\u001b[39;00m:\n\u001b[1;32m----> 7\u001b[0m     operator \u001b[38;5;241m=\u001b[39m \u001b[38;5;28;43minput\u001b[39;49m\u001b[43m(\u001b[49m\u001b[38;5;124;43m\"\u001b[39;49m\u001b[38;5;124;43mEnter an Operator(+ - * / ): \u001b[39;49m\u001b[38;5;124;43m\"\u001b[39;49m\u001b[43m)\u001b[49m\n\u001b[0;32m      8\u001b[0m     \u001b[38;5;28;01mif\u001b[39;00m operator \u001b[38;5;241m==\u001b[39m \u001b[38;5;124m'\u001b[39m\u001b[38;5;124m+\u001b[39m\u001b[38;5;124m'\u001b[39m:\n\u001b[0;32m      9\u001b[0m         \u001b[38;5;28mprint\u001b[39m(\u001b[38;5;124m\"\u001b[39m\u001b[38;5;124mThe addition of the Given Numbers is: \u001b[39m\u001b[38;5;124m\"\u001b[39m,\u001b[38;5;28mround\u001b[39m(no1\u001b[38;5;241m+\u001b[39mno2,\u001b[38;5;241m2\u001b[39m))\n",
      "File \u001b[1;32mC:\\Python3\\Lib\\site-packages\\ipykernel\\kernelbase.py:1282\u001b[0m, in \u001b[0;36mKernel.raw_input\u001b[1;34m(self, prompt)\u001b[0m\n\u001b[0;32m   1280\u001b[0m     msg \u001b[38;5;241m=\u001b[39m \u001b[38;5;124m\"\u001b[39m\u001b[38;5;124mraw_input was called, but this frontend does not support input requests.\u001b[39m\u001b[38;5;124m\"\u001b[39m\n\u001b[0;32m   1281\u001b[0m     \u001b[38;5;28;01mraise\u001b[39;00m StdinNotImplementedError(msg)\n\u001b[1;32m-> 1282\u001b[0m \u001b[38;5;28;01mreturn\u001b[39;00m \u001b[38;5;28;43mself\u001b[39;49m\u001b[38;5;241;43m.\u001b[39;49m\u001b[43m_input_request\u001b[49m\u001b[43m(\u001b[49m\n\u001b[0;32m   1283\u001b[0m \u001b[43m    \u001b[49m\u001b[38;5;28;43mstr\u001b[39;49m\u001b[43m(\u001b[49m\u001b[43mprompt\u001b[49m\u001b[43m)\u001b[49m\u001b[43m,\u001b[49m\n\u001b[0;32m   1284\u001b[0m \u001b[43m    \u001b[49m\u001b[38;5;28;43mself\u001b[39;49m\u001b[38;5;241;43m.\u001b[39;49m\u001b[43m_parent_ident\u001b[49m\u001b[43m[\u001b[49m\u001b[38;5;124;43m\"\u001b[39;49m\u001b[38;5;124;43mshell\u001b[39;49m\u001b[38;5;124;43m\"\u001b[39;49m\u001b[43m]\u001b[49m\u001b[43m,\u001b[49m\n\u001b[0;32m   1285\u001b[0m \u001b[43m    \u001b[49m\u001b[38;5;28;43mself\u001b[39;49m\u001b[38;5;241;43m.\u001b[39;49m\u001b[43mget_parent\u001b[49m\u001b[43m(\u001b[49m\u001b[38;5;124;43m\"\u001b[39;49m\u001b[38;5;124;43mshell\u001b[39;49m\u001b[38;5;124;43m\"\u001b[39;49m\u001b[43m)\u001b[49m\u001b[43m,\u001b[49m\n\u001b[0;32m   1286\u001b[0m \u001b[43m    \u001b[49m\u001b[43mpassword\u001b[49m\u001b[38;5;241;43m=\u001b[39;49m\u001b[38;5;28;43;01mFalse\u001b[39;49;00m\u001b[43m,\u001b[49m\n\u001b[0;32m   1287\u001b[0m \u001b[43m\u001b[49m\u001b[43m)\u001b[49m\n",
      "File \u001b[1;32mC:\\Python3\\Lib\\site-packages\\ipykernel\\kernelbase.py:1325\u001b[0m, in \u001b[0;36mKernel._input_request\u001b[1;34m(self, prompt, ident, parent, password)\u001b[0m\n\u001b[0;32m   1322\u001b[0m \u001b[38;5;28;01mexcept\u001b[39;00m \u001b[38;5;167;01mKeyboardInterrupt\u001b[39;00m:\n\u001b[0;32m   1323\u001b[0m     \u001b[38;5;66;03m# re-raise KeyboardInterrupt, to truncate traceback\u001b[39;00m\n\u001b[0;32m   1324\u001b[0m     msg \u001b[38;5;241m=\u001b[39m \u001b[38;5;124m\"\u001b[39m\u001b[38;5;124mInterrupted by user\u001b[39m\u001b[38;5;124m\"\u001b[39m\n\u001b[1;32m-> 1325\u001b[0m     \u001b[38;5;28;01mraise\u001b[39;00m \u001b[38;5;167;01mKeyboardInterrupt\u001b[39;00m(msg) \u001b[38;5;28;01mfrom\u001b[39;00m \u001b[38;5;28;01mNone\u001b[39;00m\n\u001b[0;32m   1326\u001b[0m \u001b[38;5;28;01mexcept\u001b[39;00m \u001b[38;5;167;01mException\u001b[39;00m:\n\u001b[0;32m   1327\u001b[0m     \u001b[38;5;28mself\u001b[39m\u001b[38;5;241m.\u001b[39mlog\u001b[38;5;241m.\u001b[39mwarning(\u001b[38;5;124m\"\u001b[39m\u001b[38;5;124mInvalid Message:\u001b[39m\u001b[38;5;124m\"\u001b[39m, exc_info\u001b[38;5;241m=\u001b[39m\u001b[38;5;28;01mTrue\u001b[39;00m)\n",
      "\u001b[1;31mKeyboardInterrupt\u001b[0m: Interrupted by user"
     ]
    }
   ],
   "source": [
    "# python calculator\n",
    "\n",
    "no1 = float(input(\"enter the 1st number: \"))\n",
    "no2 = float(input(\"Enter the 2nd number: \"))\n",
    "\n",
    "while True:\n",
    "    operator = input(\"Enter an Operator(+ - * / ): \")\n",
    "    if operator == '+':\n",
    "        print(\"The addition of the Given Numbers is: \",round(no1+no2,2))\n",
    "    \n",
    "    elif operator == '-':\n",
    "         print(\"The Subtraction of the Given Numbers is: \",round(no1 - no2,2))\n",
    "        \n",
    "    elif operator == '*':\n",
    "         print(\"The Multiplication of the Given Numbers is: \",round(no1 * no2,2))\n",
    "    \n",
    "    elif operator == '/':\n",
    "         print(\"The Division of the Given Numbers is: \",round(no1 / no2,2))\n",
    "    # the Round() function used to trim the decimal values\n",
    "    else:\n",
    "        print(f\"The supplied operator {operator} is NOT valid\")\n",
    "\n",
    "else:\n",
    "    print(\"Calcuation completed\")\n",
    "        "
   ]
  },
  {
   "cell_type": "code",
   "execution_count": 16,
   "id": "196717a7-f846-49a8-aa7d-c4484ee43671",
   "metadata": {},
   "outputs": [
    {
     "name": "stdin",
     "output_type": "stream",
     "text": [
      "enter the 1st number:  5\n",
      "Enter the 2nd number:  8\n",
      "Enter an Operator(+ - * / Q for Quit ):  Q\n"
     ]
    },
    {
     "name": "stdout",
     "output_type": "stream",
     "text": [
      "Program Ends\n"
     ]
    }
   ],
   "source": [
    "# python calculator\n",
    "\n",
    "\n",
    "while True:\n",
    "    no1 = float(input(\"enter the 1st number: \"))\n",
    "    no2 = float(input(\"Enter the 2nd number: \"))\n",
    "    operator = input(\"Enter an Operator(+ - * / Q for Quit ): \")\n",
    "\n",
    "    if operator.lower() == 'q':\n",
    "        print(\"Program Ends\")\n",
    "        break\n",
    "    \n",
    "    if operator == '+':\n",
    "        print(\"The addition of the Given Numbers is: \",round(no1+no2,2))\n",
    "    \n",
    "    elif operator == '-':\n",
    "         print(\"The Subtraction of the Given Numbers is: \",round(no1 - no2,2))\n",
    "        \n",
    "    elif operator == '*':\n",
    "         print(\"The Multiplication of the Given Numbers is: \",round(no1 * no2,2))\n",
    "    \n",
    "    elif operator == '/':\n",
    "         print(\"The Division of the Given Numbers is: \",round(no1 / no2,2))\n",
    "    # the Round() function used to trim the decimal values\n",
    "    else:\n",
    "        print(f\"The supplied operator {operator} is NOT valid\")\n",
    "\n",
    "else:\n",
    "    print(\"Calcuation completed\")\n",
    "        "
   ]
  },
  {
   "cell_type": "code",
   "execution_count": null,
   "id": "d07e6cc2-2e48-413b-a239-562a10ca2a0e",
   "metadata": {},
   "outputs": [],
   "source": []
  }
 ],
 "metadata": {
  "kernelspec": {
   "display_name": "Python 3 (ipykernel)",
   "language": "python",
   "name": "python3"
  },
  "language_info": {
   "codemirror_mode": {
    "name": "ipython",
    "version": 3
   },
   "file_extension": ".py",
   "mimetype": "text/x-python",
   "name": "python",
   "nbconvert_exporter": "python",
   "pygments_lexer": "ipython3",
   "version": "3.13.0"
  }
 },
 "nbformat": 4,
 "nbformat_minor": 5
}
