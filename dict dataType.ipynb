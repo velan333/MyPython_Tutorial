{
 "cells": [
  {
   "cell_type": "code",
   "execution_count": null,
   "id": "e4d7ac47-8ead-4aef-afee-241c244c4693",
   "metadata": {},
   "outputs": [],
   "source": [
    "# A dictionary in Python is an unordered, mutable collection of key-value pairs. It allows fast lookup, insertion, \n",
    "# and deletion of elements based on unique keys.\n",
    "# Dictionaries are denoted using curly braces {}."
   ]
  },
  {
   "cell_type": "code",
   "execution_count": null,
   "id": "d9c34d73-48c1-4510-9fce-8e151b5f91ba",
   "metadata": {},
   "outputs": [],
   "source": [
    "# # Key Features of a Dictionary\n",
    "# Key-Value Pairs: Each element is a pair of a unique key and its corresponding value.\n",
    "# Keys: Must be immutable (e.g., strings, numbers, tuples) and unique.\n",
    "# Values: Can be of any data type and can repeat."
   ]
  },
  {
   "cell_type": "code",
   "execution_count": 5,
   "id": "8a10f85e-5aa1-4ebb-b3dc-6619d0b3c13b",
   "metadata": {},
   "outputs": [],
   "source": [
    "# Creating a Dictionary\n",
    "\n",
    "\n",
    "# Empty dictionary\n",
    "\n",
    "my_dict = {}\n",
    "\n",
    "# Dictionary with initial data\n",
    "person = {\"name\": \"Alice\", \"age\": 25, \"city\": \"New York\"}"
   ]
  },
  {
   "cell_type": "code",
   "execution_count": 6,
   "id": "cf756410-0d57-445a-a658-c21e9f41f9f9",
   "metadata": {},
   "outputs": [
    {
     "name": "stdout",
     "output_type": "stream",
     "text": [
      "Alice\n",
      "25\n",
      "Not specified\n"
     ]
    }
   ],
   "source": [
    "# Accessing Values\n",
    "# Access dictionary values using keys.\n",
    "\n",
    "print(person[\"name\"])  # Output: Alice\n",
    "\n",
    "# Using get() to avoid errors if the key doesn't exist\n",
    "print(person.get(\"age\"))  # Output: 25\n",
    "print(person.get(\"gender\", \"Not specified\"))  # Output: Not specified, gender is a new key , it does not have a value in the dict, so it will return the default value supplied as an argument\n"
   ]
  },
  {
   "cell_type": "code",
   "execution_count": 7,
   "id": "800d6edc-4281-4971-bad0-8c648bf97b27",
   "metadata": {},
   "outputs": [
    {
     "name": "stdout",
     "output_type": "stream",
     "text": [
      "{'name': 'Alice', 'age': 25, 'city': 'New York', 'gender': 'Female'}\n",
      "{'name': 'Alice', 'age': 26, 'city': 'New York', 'gender': 'Female'}\n"
     ]
    }
   ],
   "source": [
    "# Adding a new key-value pair\n",
    "person[\"gender\"] = \"Female\"\n",
    "print(person)  # Output: {'name': 'Alice', 'age': 25, 'city': 'New York', 'gender': 'Female'}\n",
    "\n",
    "# Updating an existing key\n",
    "person[\"age\"] = 26\n",
    "print(person)  # Output: {'name': 'Alice', 'age': 26, 'city': 'New York', 'gender': 'Female'}\n"
   ]
  },
  {
   "cell_type": "code",
   "execution_count": 8,
   "id": "c5250d37-1074-478f-a16c-38cab3a4bcf9",
   "metadata": {},
   "outputs": [
    {
     "name": "stdout",
     "output_type": "stream",
     "text": [
      "New York\n",
      "{'name': 'Alice', 'age': 26, 'gender': 'Female'}\n",
      "{'name': 'Alice', 'age': 26}\n",
      "('age', 26)\n",
      "{'name': 'Alice'}\n"
     ]
    }
   ],
   "source": [
    "# Using pop() to remove a key and return its value\n",
    "removed_value = person.pop(\"city\")\n",
    "print(removed_value)  # Output: New York\n",
    "print(person)  # Output: {'name': 'Alice', 'age': 26, 'gender': 'Female'}\n",
    "\n",
    "# Using del to remove a key\n",
    "del person[\"gender\"]\n",
    "print(person)  # Output: {'name': 'Alice', 'age': 26}\n",
    "\n",
    "# Using popitem() to remove the last inserted key-value pair\n",
    "last_item = person.popitem()\n",
    "print(last_item)  # Output: ('age', 26)\n",
    "print(person)  # Output: {'name': 'Alice'}\n"
   ]
  },
  {
   "cell_type": "code",
   "execution_count": 9,
   "id": "bd0ea567-3386-423c-8b05-783bec89c6c8",
   "metadata": {},
   "outputs": [
    {
     "name": "stdout",
     "output_type": "stream",
     "text": [
      "{'name': 'Alice'}\n"
     ]
    }
   ],
   "source": [
    "print(person)\n"
   ]
  },
  {
   "cell_type": "code",
   "execution_count": 11,
   "id": "872f8afe-3e51-48b3-9cc8-47e0c42f7935",
   "metadata": {},
   "outputs": [],
   "source": [
    "person = {\"name\": \"Alice\", \"age\": 25, \"city\": \"New York\"}"
   ]
  },
  {
   "cell_type": "code",
   "execution_count": 12,
   "id": "58dd66ca-28d8-4e9c-8cd6-4cc2bfa1d214",
   "metadata": {},
   "outputs": [
    {
     "name": "stdout",
     "output_type": "stream",
     "text": [
      "name\n",
      "age\n",
      "city\n",
      "Alice\n",
      "25\n",
      "New York\n",
      "name: Alice\n",
      "age: 25\n",
      "city: New York\n"
     ]
    }
   ],
   "source": [
    "# Iterating through keys\n",
    "for key in person:\n",
    "    print(key)\n",
    "\n",
    "# Iterating through values\n",
    "for value in person.values():\n",
    "    print(value)\n",
    "\n",
    "# Iterating through key-value pairs\n",
    "for key, value in person.items():\n",
    "    print(f\"{key}: {value}\")\n"
   ]
  },
  {
   "cell_type": "code",
   "execution_count": null,
   "id": "b51db8f1-03bd-4116-80af-35cef70e4f20",
   "metadata": {},
   "outputs": [],
   "source": [
    "''' Useful Methods\n",
    "Method\t                Description\n",
    "------------------------------------------------------------------------------------------------\n",
    "dict.get(key, default)\tReturns the value for a key, or a default value if the key is not found.\n",
    "dict.keys()\t            Returns a view of all keys in the dictionary.\n",
    "dict.values()\t        Returns a view of all values in the dictionary.\n",
    "dict.items()\t        Returns a view of all key-value pairs as tuples.\n",
    "dict.update(other_dict)\tUpdates the dictionary with another dictionary's key-value pairs.\n",
    "dict.clear()\t        Removes all elements from the dictionary. '''"
   ]
  },
  {
   "cell_type": "code",
   "execution_count": 1,
   "id": "4d4cf1b1-edc2-423b-a3e1-18bfbd7d93c7",
   "metadata": {},
   "outputs": [
    {
     "name": "stdout",
     "output_type": "stream",
     "text": [
      "Alice: 90\n",
      "Bob: 92\n",
      "Charlie: 78\n",
      "David: 88\n"
     ]
    }
   ],
   "source": [
    "# Dictionary storing student grades\n",
    "grades = {\n",
    "    \"Alice\": 85,\n",
    "    \"Bob\": 92,\n",
    "    \"Charlie\": 78\n",
    "}\n",
    "\n",
    "# Add a new student\n",
    "grades[\"David\"] = 88\n",
    "\n",
    "# Update a grade\n",
    "grades[\"Alice\"] = 90\n",
    "\n",
    "# Print all grades\n",
    "for student, grade in grades.items():\n",
    "    print(f\"{student}: {grade}\")\n",
    "\n",
    "# Output:\n",
    "# Alice: 90\n",
    "# Bob: 92\n",
    "# Charlie: 78\n",
    "# David: 88\n"
   ]
  },
  {
   "cell_type": "code",
   "execution_count": null,
   "id": "980963b3-dd96-4117-9314-d241ca8342ca",
   "metadata": {},
   "outputs": [],
   "source": [
    "# Example 1: Dictionary as a Phonebook\n",
    "phonebook = {\n",
    "    \"Alice\": \"123-456-7890\",\n",
    "    \"Bob\": \"987-654-3210\",\n",
    "    \"Charlie\": \"555-666-7777\"\n",
    "}\n",
    "\n",
    "# Add a new contact\n",
    "phonebook[\"David\"] = \"444-555-6666\"\n",
    "\n",
    "# Update an existing contact\n",
    "phonebook[\"Alice\"] = \"111-222-3333\"\n",
    "\n",
    "# Remove a contact\n",
    "del phonebook[\"Charlie\"]\n",
    "\n",
    "# Print all contacts\n",
    "for name, number in phonebook.items():\n",
    "    print(f\"{name}: {number}\")\n",
    "\n",
    "# Output:\n",
    "# Alice: 111-222-3333\n",
    "# Bob: 987-654-3210\n",
    "# David: 444-555-6666\n"
   ]
  },
  {
   "cell_type": "code",
   "execution_count": 4,
   "id": "0a3a1574-f8e9-4751-9616-328e14bf0e3e",
   "metadata": {},
   "outputs": [
    {
     "name": "stdout",
     "output_type": "stream",
     "text": [
      "Fruits: Apple, Banana, Orange, Grapes\n",
      "Vegetables: Carrot, Spinach, Potato\n",
      "Dairy: Milk, Cheese, Yogurt\n",
      "Beverages: Water, Juice\n"
     ]
    }
   ],
   "source": [
    "# Example 2: Grouping Items by Category\n",
    "grocery_list = {\n",
    "    \"Fruits\": [\"Apple\", \"Banana\", \"Orange\"],\n",
    "    \"Vegetables\": [\"Carrot\", \"Spinach\", \"Potato\"],\n",
    "    \"Dairy\": [\"Milk\", \"Cheese\", \"Yogurt\"]\n",
    "}\n",
    "\n",
    "# Add a new category\n",
    "grocery_list[\"Beverages\"] = [\"Water\", \"Juice\"]\n",
    "\n",
    "# Add a new item to an existing category\n",
    "grocery_list[\"Fruits\"].append(\"Grapes\")\n",
    "\n",
    "# Print the grocery list\n",
    "for category, items in grocery_list.items():\n",
    "    print(f\"{category}: {', ' .join(items)}\")\n",
    "\n",
    "# Output:\n",
    "# Fruits: Apple, Banana, Orange, Grapes\n",
    "# Vegetables: Carrot, Spinach, Potato\n",
    "# Dairy: Milk, Cheese, Yogurt\n",
    "# Beverages: Water, Juice\n"
   ]
  },
  {
   "cell_type": "code",
   "execution_count": 6,
   "id": "d69c09d9-d649-48e5-8931-f540e6816b33",
   "metadata": {},
   "outputs": [
    {
     "name": "stdout",
     "output_type": "stream",
     "text": [
      "Computer Science\n",
      "[78, 83, 91]\n",
      "Alice: 87.67\n",
      "Bob: 84.00\n",
      "Charlie: 88.33\n",
      "David: 84.00\n"
     ]
    }
   ],
   "source": [
    "# Example 3: Nested Dictionaries for Complex Data\n",
    "\n",
    "students = {\n",
    "    \"Alice\": {\"age\": 25, \"major\": \"Computer Science\", \"grades\": [85, 90, 88]},\n",
    "    \"Bob\": {\"age\": 22, \"major\": \"Mathematics\", \"grades\": [78, 83, 91]},\n",
    "    \"Charlie\": {\"age\": 23, \"major\": \"Physics\", \"grades\": [92, 88, 85]}\n",
    "}\n",
    "# to access the content of dict we need to use key-value pair, index wont work with doict\n",
    "# Access nested data\n",
    "print(students[\"Alice\"][\"major\"])  # Output: Computer Science\n",
    "\n",
    "print(students[\"Bob\"][\"grades\"])  # Output: [78, 83, 91]\n",
    "\n",
    "# Add a new student\n",
    "students[\"David\"] = {\"age\": 24, \"major\": \"Biology\", \"grades\": [80, 85, 87]}\n",
    "\n",
    "# Calculate and print average grades\n",
    "for student, details in students.items():\n",
    "    avg_grade = sum(details[\"grades\"]) / len(details[\"grades\"])\n",
    "    print(f\"{student}: {avg_grade:.2f}\")\n",
    "\n",
    "# Output:\n",
    "# Alice: 87.67\n",
    "# Bob: 84.00\n",
    "# Charlie: 88.33\n",
    "# David: 84.00\n"
   ]
  },
  {
   "cell_type": "code",
   "execution_count": null,
   "id": "2388aa75-3704-4148-8195-b7e92a35b97e",
   "metadata": {},
   "outputs": [],
   "source": [
    "# Example 4: Counting Frequency of Words\n",
    "sentence = \"apple banana apple orange banana apple\"\n",
    "word_counts = {}\n",
    "\n",
    "# Count occurrences of each word\n",
    "#First, sentence.split() creates a list: [\"apple\", \"banana\", \"apple\", \"orange\", \"banana\", \"apple\"]\n",
    "\n",
    "for word in sentence.split(): \n",
    "    word_counts[word] = word_counts.get(word, 0) + 1\n",
    "\n",
    "# the get() function has two parameters, one is value to look, and \n",
    "# the second is the return value if the desired value not in the list.\n",
    "\n",
    "# Print word frequencies\n",
    "\n",
    "print(word_counts)\n",
    "\n",
    "''' Why Use .get()?\n",
    "Using .get() avoids the need to check if a key exists in the dictionary explicitly. Without it, \n",
    "the code would look like this:\n",
    "\n",
    "for word in sentence.split():\n",
    "    if word in word_counts:\n",
    "        word_counts[word] += 1\n",
    "    else:\n",
    "        word_counts[word] = 1\n",
    "The word_counts.get(word, 0) simplifies this into a single line.'''\n",
    "# Output:\n",
    "# {'apple': 3, 'banana': 2, 'orange': 1}\n",
    "\n",
    "''' Execution Flow\n",
    "For each word in the sentence:\n",
    "\n",
    "First Iteration (word = \"apple\")\n",
    "\n",
    "word_counts.get(\"apple\", 0) → Key \"apple\" does not exist, so returns 0.\n",
    "0 + 1 → New count is 1.\n",
    "Update: word_counts[\"apple\"] = 1.\n",
    "Second Iteration (word = \"banana\")\n",
    "\n",
    "word_counts.get(\"banana\", 0) → Key \"banana\" does not exist, so returns 0.\n",
    "0 + 1 → New count is 1.\n",
    "Update: word_counts[\"banana\"] = 1.\n",
    "Third Iteration (word = \"apple\")\n",
    "\n",
    "word_counts.get(\"apple\", 0) → Key \"apple\" exists, current value is 1.\n",
    "1 + 1 → New count is 2.\n",
    "Update: word_counts[\"apple\"] = 2.\n",
    "And so on... '''\n",
    "\n",
    "# Loop Iteration Flow:\n",
    "\n",
    "# First, sentence.split() creates a list: [\"apple\", \"banana\", \"apple\", \"orange\", \"banana\", \"apple\"]\n",
    "# First Iteration (word = \"apple\"):\n",
    "\n",
    "# word_counts.get(\"apple\", 0) returns 0 (first occurrence)\n",
    "# Sets word_counts[\"apple\"] = 0 + 1 → {\"apple\": 1}\n",
    "\n",
    "\n",
    "# Second Iteration (word = \"banana\"):\n",
    "\n",
    "# word_counts.get(\"banana\", 0) returns 0 (first occurrence)\n",
    "# Sets word_counts[\"banana\"] = 0 + 1 → {\"apple\": 1, \"banana\": 1}\n",
    "\n",
    "\n",
    "# Third Iteration (word = \"apple\"):\n",
    "\n",
    "# word_counts.get(\"apple\", 0) returns 1\n",
    "# Sets word_counts[\"apple\"] = 1 + 1 → {\"apple\": 2, \"banana\": 1}\n",
    "\n",
    "\n",
    "# Fourth Iteration (word = \"orange\"):\n",
    "\n",
    "# word_counts.get(\"orange\", 0) returns 0 (first occurrence)\n",
    "# Sets word_counts[\"orange\"] = 0 + 1 → {\"apple\": 2, \"banana\": 1, \"orange\": 1}\n",
    "\n",
    "\n",
    "# Fifth Iteration (word = \"banana\"):\n",
    "\n",
    "# word_counts.get(\"banana\", 0) returns 1\n",
    "# Sets word_counts[\"banana\"] = 1 + 1 → {\"apple\": 2, \"banana\": 2, \"orange\": 1}\n",
    "\n",
    "\n",
    "# Final Iteration (word = \"apple\"):\n",
    "\n",
    "# word_counts.get(\"apple\", 0) returns 2\n",
    "# Sets word_counts[\"apple\"] = 2 + 1 → {\"apple\": 3, \"banana\": 2, \"orange\": 1}\n",
    "\n",
    "\n",
    "\n",
    "# Final result: {\"apple\": 3, \"banana\": 2, \"orange\": 1}\n",
    "# Key Points:\n",
    "\n",
    "# .get(key, default) returns the value if the key exists, or the default value if it doesn't\n",
    "# This method prevents KeyError when the word is first encountered"
   ]
  },
  {
   "cell_type": "code",
   "execution_count": null,
   "id": "100df39f-a0ed-4e85-be2b-e07eb5f5d73b",
   "metadata": {},
   "outputs": [],
   "source": [
    "# Example 5: Mapping Function Results\n",
    "\n",
    "numbers = [1, 2, 3, 4, 5]\n",
    "\n",
    "# Create a dictionary with squares of numbers\n",
    "squares = {num: num**2 for num in numbers}\n",
    "\n",
    "print(squares)\n",
    "\n",
    "# Output:\n",
    "# {1: 1, 2: 4, 3: 9, 4: 16, 5: 25}"
   ]
  },
  {
   "cell_type": "code",
   "execution_count": 9,
   "id": "7bc1bcc4-3313-4e41-acfe-fbdbaa8f5559",
   "metadata": {},
   "outputs": [
    {
     "name": "stdout",
     "output_type": "stream",
     "text": [
      "defaultdict(<class 'list'>, {5: ['apple'], 3: ['bat', 'car', 'dog'], 6: ['banana']})\n"
     ]
    }
   ],
   "source": [
    "# Example 6: Dictionary with Default Values\n",
    "# Using the collections.defaultdict to simplify default values.\n",
    "\n",
    "from collections import defaultdict\n",
    "\n",
    "# Initialize a dictionary with lists as default values\n",
    "grouped_data = defaultdict(list)\n",
    "\n",
    "# Group items by their length\n",
    "words = [\"apple\", \"bat\", \"car\", \"banana\", \"dog\"]\n",
    "for word in words:\n",
    "    grouped_data[len(word)].append(word)\n",
    "\n",
    "print(grouped_data)\n",
    "\n",
    "# Output:\n",
    "# defaultdict(<class 'list'>, {5: ['apple'], 3: ['bat', 'car', 'dog'], 6: ['banana']})\n",
    "\n",
    "\n",
    "# '''Why Use defaultdict?\n",
    "# Without defaultdict, you’d have to write additional checks to see if a key exists and initialize it manually:\n",
    "\n",
    "# python\n",
    "# Copy code\n",
    "# grouped_data = {}\n",
    "\n",
    "# for word in words:\n",
    "#     length = len(word)\n",
    "#     if length not in grouped_data:\n",
    "#         grouped_data[length] = []  # Initialize list if key is missing\n",
    "#     grouped_data[length].append(word)\n",
    "# Using defaultdict simplifies this logic, as it handles the missing keys automatically.'''\n",
    "\n",
    "\n",
    "\n",
    "# ''' How It Works\n",
    "# Initialization:\n",
    "\n",
    "# grouped_data is a defaultdict with a default value of list.\n",
    "# This means any missing key will automatically have an empty list ([]) as its value.\n",
    "# Iterating Through the Words:\n",
    "\n",
    "# For each word in the words list:\n",
    "# len(word) is calculated (e.g., len(\"apple\") is 5).\n",
    "# If the key 5 does not already exist in grouped_data, a new entry is created with 5 as the key and an empty list as the value.\n",
    "# The word is then added to the list corresponding to its length.\n",
    "# Result:\n",
    "\n",
    "# After processing all words, grouped_data will look like this:\n",
    "# python\n",
    "# Copy code\n",
    "# defaultdict(<class 'list'>, {5: ['apple'], 3: ['bat', 'car', 'dog'], 6: ['banana']})'''"
   ]
  },
  {
   "cell_type": "code",
   "execution_count": null,
   "id": "7f3cbfa6-7016-4636-8432-d968ecff4faa",
   "metadata": {},
   "outputs": [],
   "source": [
    "# Example 7: Using zip to Create a Dictionary\n",
    "\n",
    "keys = [\"name\", \"age\", \"city\"]\n",
    "values = [\"Alice\", 25, \"New York\"]\n",
    "\n",
    "# Create a dictionary from two lists\n",
    "person = dict(zip(keys, values))\n",
    "\n",
    "print(person)\n",
    "\n",
    "# Output:\n",
    "# {'name': 'Alice', 'age': 25, 'city': 'New York'}"
   ]
  },
  {
   "cell_type": "code",
   "execution_count": 3,
   "id": "6802fea0-3d99-4049-9ebb-ae778f1efa2b",
   "metadata": {},
   "outputs": [
    {
     "name": "stdout",
     "output_type": "stream",
     "text": [
      "March\n",
      "Unknown\n"
     ]
    }
   ],
   "source": [
    "# Example 8: Dictionary for Lookup Tables\n",
    "\n",
    "# Lookup table for month abbreviations\n",
    "months = {\n",
    "    \"Jan\": \"January\",\n",
    "    \"Feb\": \"February\",\n",
    "    \"Mar\": \"March\",\n",
    "    \"Apr\": \"April\",\n",
    "}\n",
    "\n",
    "# Get full month names\n",
    "print(months.get(\"Mar\", \"Unknown\"))  # Output: March\n",
    "print(months.get(\"Dec\", \"Unknown\"))  # Output: Unknown"
   ]
  },
  {
   "cell_type": "code",
   "execution_count": null,
   "id": "1d4dd363-41fe-4467-82b3-dc825b9c4804",
   "metadata": {},
   "outputs": [],
   "source": []
  }
 ],
 "metadata": {
  "kernelspec": {
   "display_name": "Python 3 (ipykernel)",
   "language": "python",
   "name": "python3"
  },
  "language_info": {
   "codemirror_mode": {
    "name": "ipython",
    "version": 3
   },
   "file_extension": ".py",
   "mimetype": "text/x-python",
   "name": "python",
   "nbconvert_exporter": "python",
   "pygments_lexer": "ipython3",
   "version": "3.13.0"
  }
 },
 "nbformat": 4,
 "nbformat_minor": 5
}
