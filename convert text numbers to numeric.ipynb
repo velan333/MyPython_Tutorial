def text_to_number(text):
    """
    Convert textual numbers to numeric form.
    Examples: 'one' -> 1, 'twenty five' -> 25, 'one hundred and twenty three' -> 123
    """
    # Dictionary mapping words to numbers
    word_to_num = {
        'zero': 0, 'one': 1, 'two': 2, 'three': 3, 'four': 4, 'five': 5,
        'six': 6, 'seven': 7, 'eight': 8, 'nine': 9, 'ten': 10,
        'eleven': 11, 'twelve': 12, 'thirteen': 13, 'fourteen': 14, 'fifteen': 15,
        'sixteen': 16, 'seventeen': 17, 'eighteen': 18, 'nineteen': 19, 'twenty': 20,
        'thirty': 30, 'forty': 40, 'fifty': 50, 'sixty': 60,
        'seventy': 70, 'eighty': 80, 'ninety': 90
    }

    # Scale words and their corresponding values
    scale = {
        'hundred': 100,
        'thousand': 1000,
        'million': 1000000,
        'billion': 1000000000,
        'trillion': 1000000000000
    }

    def clean_text(text):
        # Remove hyphens and convert to lowercase
        text = text.lower().replace('-', ' ')
        # Remove 'and' and extra spaces
        text = ' '.join([word for word in text.split() if word != 'and'])
        return text

    def process_chunk(chunk):
        words = chunk.split()
        total = 0
        current = 0
        
        for word in words:
            if word in word_to_num:
                current = word_to_num[word]
            elif word in scale:
                if current == 0:
                    current = 1
                current *= scale[word]
                total += current
                current = 0
            else:
                return None  # Invalid word
        
        return total + current

    # Clean and split the input text
    text = clean_text(text)
    
    try:
        # Check if it's a single number word
        if text in word_to_num:
            return word_to_num[text]

        # Process the text
        result = process_chunk(text)
        if result is not None:
            return result
        else:
            return "Invalid input: Text contains unrecognized number words"
            
    except Exception as e:
        return f"Error processing text: {str(e)}"

# Example usage
def test_conversion():
    test_cases = [
        "twenty five",
        "one hundred and twenty three",
        "one thousand two hundred and thirty four",
        "one million",
        "fifty thousand",
        "invalid number"
    ]
    
    for test in test_cases:
        result = text_to_number(test)
        print(f"Input: {test}")
        print(f"Output: {result}")
        print("---")

if __name__ == "__main__":
    test_conversion()
